{
 "cells": [
  {
   "cell_type": "markdown",
   "id": "neutral-story",
   "metadata": {},
   "source": [
    "## Chapter 1. Exploratory Data Analysis "
   ]
  },
  {
   "cell_type": "markdown",
   "id": "incorporate-pride",
   "metadata": {},
   "source": [
    "### 1. Estimates of Location \n",
    "\n",
    "- mean\n",
    "- weighted mean \n",
    "- median \n",
    "- percentile \n",
    "- weighted median \n",
    "- trimmed mean (drop outliers)\n"
   ]
  },
  {
   "cell_type": "code",
   "execution_count": 1,
   "id": "accomplished-painting",
   "metadata": {},
   "outputs": [],
   "source": [
    "import pandas as pd \n",
    "import numpy as np \n",
    "\n",
    "df = pd.read_csv('movies.csv')"
   ]
  },
  {
   "cell_type": "code",
   "execution_count": 2,
   "id": "naked-ceremony",
   "metadata": {},
   "outputs": [
    {
     "data": {
      "text/plain": [
       "Index(['rank', 'movie_id', 'title', 'year', 'link', 'imbd_votes',\n",
       "       'imbd_rating', 'certificate', 'duration', 'genre', 'cast_id',\n",
       "       'cast_name', 'director_id', 'director_name', 'writer_id', 'writer_name',\n",
       "       'storyline', 'user_id', 'user_name', 'review_id', 'review_title',\n",
       "       'review_content'],\n",
       "      dtype='object')"
      ]
     },
     "execution_count": 2,
     "metadata": {},
     "output_type": "execute_result"
    }
   ],
   "source": [
    "df.columns"
   ]
  },
  {
   "cell_type": "code",
   "execution_count": 3,
   "id": "inclusive-advancement",
   "metadata": {},
   "outputs": [
    {
     "name": "stdout",
     "output_type": "stream",
     "text": [
      "<class 'pandas.core.frame.DataFrame'>\n",
      "RangeIndex: 250 entries, 0 to 249\n",
      "Data columns (total 22 columns):\n",
      " #   Column          Non-Null Count  Dtype  \n",
      "---  ------          --------------  -----  \n",
      " 0   rank            250 non-null    int64  \n",
      " 1   movie_id        250 non-null    object \n",
      " 2   title           250 non-null    object \n",
      " 3   year            250 non-null    int64  \n",
      " 4   link            250 non-null    object \n",
      " 5   imbd_votes      250 non-null    object \n",
      " 6   imbd_rating     250 non-null    float64\n",
      " 7   certificate     249 non-null    object \n",
      " 8   duration        250 non-null    object \n",
      " 9   genre           250 non-null    object \n",
      " 10  cast_id         250 non-null    object \n",
      " 11  cast_name       250 non-null    object \n",
      " 12  director_id     250 non-null    object \n",
      " 13  director_name   250 non-null    object \n",
      " 14  writer_id       250 non-null    object \n",
      " 15  writer_name     250 non-null    object \n",
      " 16  storyline       250 non-null    object \n",
      " 17  user_id         250 non-null    object \n",
      " 18  user_name       250 non-null    object \n",
      " 19  review_id       250 non-null    object \n",
      " 20  review_title    250 non-null    object \n",
      " 21  review_content  250 non-null    object \n",
      "dtypes: float64(1), int64(2), object(19)\n",
      "memory usage: 43.1+ KB\n"
     ]
    }
   ],
   "source": [
    "df.info()"
   ]
  },
  {
   "cell_type": "markdown",
   "id": "blank-dodge",
   "metadata": {},
   "source": [
    "Let's find out on average, which year was the best for film. "
   ]
  },
  {
   "cell_type": "code",
   "execution_count": 4,
   "id": "adjustable-peter",
   "metadata": {},
   "outputs": [
    {
     "data": {
      "text/plain": [
       "1986.36"
      ]
     },
     "execution_count": 4,
     "metadata": {},
     "output_type": "execute_result"
    }
   ],
   "source": [
    "avg_yr = df['year'].mean()\n",
    "avg_yr"
   ]
  },
  {
   "cell_type": "code",
   "execution_count": 5,
   "id": "institutional-today",
   "metadata": {},
   "outputs": [
    {
     "data": {
      "text/plain": [
       "1986.3817113689993"
      ]
     },
     "execution_count": 5,
     "metadata": {},
     "output_type": "execute_result"
    }
   ],
   "source": [
    "weighted_avg_yr = np.average(np.array(df['year']), weights = df['imbd_rating'])\n",
    "weighted_avg_yr"
   ]
  },
  {
   "cell_type": "code",
   "execution_count": 6,
   "id": "positive-tragedy",
   "metadata": {},
   "outputs": [
    {
     "data": {
      "text/plain": [
       "1994.0"
      ]
     },
     "execution_count": 6,
     "metadata": {},
     "output_type": "execute_result"
    }
   ],
   "source": [
    "median_yr = df['year'].median()\n",
    "median_yr"
   ]
  },
  {
   "cell_type": "code",
   "execution_count": 7,
   "id": "sexual-policy",
   "metadata": {},
   "outputs": [
    {
     "name": "stdout",
     "output_type": "stream",
     "text": [
      "Requirement already satisfied: wquantiles in /Users/yektaamirkhalili/opt/anaconda3/lib/python3.9/site-packages (0.6)\n",
      "Requirement already satisfied: numpy>=1.18 in /Users/yektaamirkhalili/opt/anaconda3/lib/python3.9/site-packages (from wquantiles) (1.20.1)\n",
      "Note: you may need to restart the kernel to use updated packages.\n"
     ]
    }
   ],
   "source": [
    "%pip install wquantiles"
   ]
  },
  {
   "cell_type": "code",
   "execution_count": 8,
   "id": "enormous-campus",
   "metadata": {},
   "outputs": [
    {
     "data": {
      "text/plain": [
       "1994.0"
      ]
     },
     "execution_count": 8,
     "metadata": {},
     "output_type": "execute_result"
    }
   ],
   "source": [
    "import wquantiles\n",
    "\n",
    "weighted_median_yr = wquantiles.median(df['year'], weights = df['imbd_rating'])\n",
    "weighted_median_yr"
   ]
  },
  {
   "cell_type": "code",
   "execution_count": 9,
   "id": "beginning-librarian",
   "metadata": {},
   "outputs": [
    {
     "data": {
      "text/plain": [
       "1988.57"
      ]
     },
     "execution_count": 9,
     "metadata": {},
     "output_type": "execute_result"
    }
   ],
   "source": [
    "from scipy import stats \n",
    "\n",
    "trim_average_yr = stats.trim_mean(df['year'], 0.1)\n",
    "trim_average_yr"
   ]
  },
  {
   "cell_type": "markdown",
   "id": "accepting-motorcycle",
   "metadata": {},
   "source": [
    "### 2. Estimates of Variability \n",
    "\n",
    "- standard deviation \n",
    "- variance \n",
    "- mean absolute deviation \n",
    "- median absolute deviation \n",
    "- range \n",
    "- order/ranks \n",
    "- percentiles/quantiles\n",
    "- interquantile range (IQR)\n"
   ]
  },
  {
   "cell_type": "code",
   "execution_count": 10,
   "id": "obvious-defense",
   "metadata": {},
   "outputs": [
    {
     "data": {
      "text/plain": [
       "25.125356398199536"
      ]
     },
     "execution_count": 10,
     "metadata": {},
     "output_type": "execute_result"
    }
   ],
   "source": [
    "import statsmodels.api as sm\n",
    "\n",
    "standard_dev = df['year'].std()\n",
    "standard_dev\n",
    "\n",
    "#variance is just std to the power of 2 "
   ]
  },
  {
   "cell_type": "code",
   "execution_count": 11,
   "id": "integral-strengthening",
   "metadata": {},
   "outputs": [
    {
     "data": {
      "text/plain": [
       "39.75"
      ]
     },
     "execution_count": 11,
     "metadata": {},
     "output_type": "execute_result"
    }
   ],
   "source": [
    "# IQR = 75% - 25% \n",
    "\n",
    "IQR = df['year'].quantile(0.75) - df['year'].quantile(0.25)\n",
    "IQR"
   ]
  },
  {
   "cell_type": "code",
   "execution_count": 12,
   "id": "bearing-stockholm",
   "metadata": {},
   "outputs": [
    {
     "data": {
      "text/plain": [
       "23.721635496089633"
      ]
     },
     "execution_count": 12,
     "metadata": {},
     "output_type": "execute_result"
    }
   ],
   "source": [
    "mean_abs_dev = sm.robust.scale.mad(df['year'])\n",
    "mean_abs_dev"
   ]
  },
  {
   "cell_type": "code",
   "execution_count": 13,
   "id": "delayed-memorial",
   "metadata": {},
   "outputs": [
    {
     "data": {
      "text/plain": [
       "101"
      ]
     },
     "execution_count": 13,
     "metadata": {},
     "output_type": "execute_result"
    }
   ],
   "source": [
    "range_ = df['year'].max() - df['year'].min()\n",
    "range_"
   ]
  },
  {
   "cell_type": "markdown",
   "id": "remarkable-communication",
   "metadata": {},
   "source": [
    "### 3. Exploring Distributions \n",
    "\n",
    "- percentile table\n",
    "- Boxplot \n",
    "- Frequency Table\n",
    "- Histogram\n",
    "- Density Plot"
   ]
  },
  {
   "cell_type": "code",
   "execution_count": 14,
   "id": "still-syndrome",
   "metadata": {},
   "outputs": [
    {
     "data": {
      "text/html": [
       "<div>\n",
       "<style scoped>\n",
       "    .dataframe tbody tr th:only-of-type {\n",
       "        vertical-align: middle;\n",
       "    }\n",
       "\n",
       "    .dataframe tbody tr th {\n",
       "        vertical-align: top;\n",
       "    }\n",
       "\n",
       "    .dataframe thead th {\n",
       "        text-align: right;\n",
       "    }\n",
       "</style>\n",
       "<table border=\"1\" class=\"dataframe\">\n",
       "  <thead>\n",
       "    <tr style=\"text-align: right;\">\n",
       "      <th></th>\n",
       "      <th>0.05</th>\n",
       "      <th>0.25</th>\n",
       "      <th>0.50</th>\n",
       "      <th>0.75</th>\n",
       "      <th>0.95</th>\n",
       "    </tr>\n",
       "  </thead>\n",
       "  <tbody>\n",
       "    <tr>\n",
       "      <th>year</th>\n",
       "      <td>1939.45</td>\n",
       "      <td>1966.25</td>\n",
       "      <td>1994.0</td>\n",
       "      <td>2006.0</td>\n",
       "      <td>2018.0</td>\n",
       "    </tr>\n",
       "  </tbody>\n",
       "</table>\n",
       "</div>"
      ],
      "text/plain": [
       "         0.05     0.25    0.50    0.75    0.95\n",
       "year  1939.45  1966.25  1994.0  2006.0  2018.0"
      ]
     },
     "execution_count": 14,
     "metadata": {},
     "output_type": "execute_result"
    }
   ],
   "source": [
    "perc_table = pd.DataFrame(df['year'].quantile([.05, 0.25, 0.5,.75, 0.95]))\n",
    "perc_table.transpose()"
   ]
  },
  {
   "cell_type": "code",
   "execution_count": 15,
   "id": "transsexual-dressing",
   "metadata": {},
   "outputs": [
    {
     "data": {
      "image/png": "[encoded data removed]",
      "text/plain": [
       "<Figure size 576x576 with 1 Axes>"
      ]
     },
     "metadata": {
      "needs_background": "light"
     },
     "output_type": "display_data"
    }
   ],
   "source": [
    "ax = (df['year']).plot.box(figsize = (8,8))\n",
    "ax.set_label('Years')"
   ]
  },
  {
   "cell_type": "code",
   "execution_count": 16,
   "id": "genuine-canyon",
   "metadata": {},
   "outputs": [
    {
     "data": {
      "text/plain": [
       "(1991.7, 2001.8]      48\n",
       "(2001.8, 2011.9]      48\n",
       "(2011.9, 2022.0]      38\n",
       "(1981.6, 1991.7]      25\n",
       "(1951.3, 1961.4]      24\n",
       "(1971.5, 1981.6]      24\n",
       "(1961.4, 1971.5]      15\n",
       "(1941.2, 1951.3]      11\n",
       "(1931.1, 1941.2]       9\n",
       "(1920.899, 1931.1]     8\n",
       "Name: year, dtype: int64"
      ]
     },
     "execution_count": 16,
     "metadata": {},
     "output_type": "execute_result"
    }
   ],
   "source": [
    "frq_table = pd.cut(df['year'], 10) #100 years, 10 bins, 10 decades \n",
    "frq_table.value_counts()"
   ]
  },
  {
   "cell_type": "code",
   "execution_count": 17,
   "id": "particular-switzerland",
   "metadata": {},
   "outputs": [
    {
     "data": {
      "image/png": "[encoded data removed]",
      "text/plain": [
       "<Figure size 576x576 with 1 Axes>"
      ]
     },
     "metadata": {
      "needs_background": "light"
     },
     "output_type": "display_data"
    }
   ],
   "source": [
    "ax2 = (df['year']).plot.hist(figsize = (8,8))\n",
    "ax2.set_label(' Historgram - year')"
   ]
  },
  {
   "cell_type": "code",
   "execution_count": 18,
   "id": "still-aging",
   "metadata": {},
   "outputs": [
    {
     "data": {
      "image/png": "[encoded data removed]",
      "text/plain": [
       "<Figure size 432x288 with 1 Axes>"
      ]
     },
     "metadata": {
      "needs_background": "light"
     },
     "output_type": "display_data"
    }
   ],
   "source": [
    "ax3 = df['year'].plot.hist(density = True)\n",
    "df['year'].plot.density(ax = ax3)\n",
    "ax3.set_label('Density Plot')"
   ]
  },
  {
   "cell_type": "markdown",
   "id": "norwegian-sherman",
   "metadata": {},
   "source": [
    "### 4. Exploring Binary and Categorical Data \n",
    "\n",
    "- Mode\n",
    "- Bar Charts \n",
    "- Expected Value \n",
    "- Pie Charts "
   ]
  },
  {
   "cell_type": "code",
   "execution_count": 19,
   "id": "smooth-unknown",
   "metadata": {},
   "outputs": [
    {
     "data": {
      "text/plain": [
       "Index(['rank', 'movie_id', 'title', 'year', 'link', 'imbd_votes',\n",
       "       'imbd_rating', 'certificate', 'duration', 'genre', 'cast_id',\n",
       "       'cast_name', 'director_id', 'director_name', 'writer_id', 'writer_name',\n",
       "       'storyline', 'user_id', 'user_name', 'review_id', 'review_title',\n",
       "       'review_content'],\n",
       "      dtype='object')"
      ]
     },
     "execution_count": 19,
     "metadata": {},
     "output_type": "execute_result"
    }
   ],
   "source": [
    "df.columns"
   ]
  },
  {
   "cell_type": "code",
   "execution_count": 20,
   "id": "continental-tamil",
   "metadata": {},
   "outputs": [
    {
     "data": {
      "text/plain": [
       "Index(['rank', 'movie_id', 'title', 'year', 'link', 'imbd_votes',\n",
       "       'imbd_rating', 'certificate', 'duration', 'genre', 'cast_id',\n",
       "       'cast_name', 'director_id', 'director_name', 'writer_id', 'writer_name',\n",
       "       'storyline', 'user_id', 'user_name', 'review_id', 'review_title',\n",
       "       'review_content', 'oldOrNew'],\n",
       "      dtype='object')"
      ]
     },
     "execution_count": 20,
     "metadata": {},
     "output_type": "execute_result"
    }
   ],
   "source": [
    "#let's check genre and add a binary variable, is the movie old or new? New is after 2000 \n",
    "\n",
    "old_or_new = []\n",
    "yr = np.array(df['year'])\n",
    "\n",
    "for i in range(len(yr)):\n",
    "    if yr[i] < 2000: \n",
    "        old_or_new.insert(i, 0)\n",
    "    else:\n",
    "        old_or_new.insert(i, 1)\n",
    "\n",
    "    \n",
    "old_or_new = pd.Series(old_or_new)        \n",
    "df['oldOrNew'] = old_or_new\n",
    "\n",
    "df.columns"
   ]
  },
  {
   "cell_type": "code",
   "execution_count": 21,
   "id": "dimensional-banking",
   "metadata": {},
   "outputs": [],
   "source": [
    "genre = df['genre']\n",
    "age_ = df['oldOrNew']"
   ]
  },
  {
   "cell_type": "code",
   "execution_count": 22,
   "id": "human-transition",
   "metadata": {},
   "outputs": [
    {
     "name": "stdout",
     "output_type": "stream",
     "text": [
      "most frequent movie genre in the top 250:  Drama\n",
      "most frequent century is the 1900s\n"
     ]
    }
   ],
   "source": [
    "import statistics \n",
    "\n",
    "md_gnr = statistics.mode(genre)\n",
    "md_age = statistics.mode(age_)\n",
    "\n",
    "print('most frequent movie genre in the top 250: ', md_gnr)\n",
    "\n",
    "if md_age == 0: \n",
    "    print('most frequent century is the 1900s')\n",
    "else: \n",
    "    print('most frequent century is the 21st century.')"
   ]
  },
  {
   "cell_type": "code",
   "execution_count": 27,
   "id": "national-inspiration",
   "metadata": {},
   "outputs": [],
   "source": [
    "keys_ = genre.unique()"
   ]
  },
  {
   "cell_type": "code",
   "execution_count": 33,
   "id": "driving-teach",
   "metadata": {},
   "outputs": [],
   "source": [
    "genre_dict = dict(genre.value_counts())"
   ]
  },
  {
   "cell_type": "code",
   "execution_count": 35,
   "id": "minus-oxide",
   "metadata": {},
   "outputs": [],
   "source": [
    "import matplotlib.pyplot as plt"
   ]
  },
  {
   "cell_type": "code",
   "execution_count": 40,
   "id": "expressed-overall",
   "metadata": {},
   "outputs": [
    {
     "data": {
      "text/plain": [
       "Text(0.5, 0.98, 'Categorical Plotting')"
      ]
     },
     "execution_count": 40,
     "metadata": {},
     "output_type": "execute_result"
    },
    {
     "data": {
      "image/png": "[encoded data removed]",
      "text/plain": [
       "<Figure size 1440x648 with 3 Axes>"
      ]
     },
     "metadata": {
      "needs_background": "light"
     },
     "output_type": "display_data"
    }
   ],
   "source": [
    "genre_name = list(genre_dict.keys())\n",
    "genre_frequency = list(genre_dict.values())\n",
    "\n",
    "fig, axs = plt.subplots(1, 3, figsize=(20, 9), sharey=True)\n",
    "axs[0].bar(genre_name, genre_frequency)\n",
    "axs[1].scatter(genre_name, genre_frequency)\n",
    "axs[2].plot(genre_name, genre_frequency)\n",
    "fig.suptitle('Categorical Plotting')\n",
    "\n",
    "\n"
   ]
  },
  {
   "cell_type": "code",
   "execution_count": 45,
   "id": "painful-killing",
   "metadata": {},
   "outputs": [
    {
     "data": {
      "text/html": [
       "<div>\n",
       "<style scoped>\n",
       "    .dataframe tbody tr th:only-of-type {\n",
       "        vertical-align: middle;\n",
       "    }\n",
       "\n",
       "    .dataframe tbody tr th {\n",
       "        vertical-align: top;\n",
       "    }\n",
       "\n",
       "    .dataframe thead th {\n",
       "        text-align: right;\n",
       "    }\n",
       "</style>\n",
       "<table border=\"1\" class=\"dataframe\">\n",
       "  <thead>\n",
       "    <tr style=\"text-align: right;\">\n",
       "      <th></th>\n",
       "      <th>genre</th>\n",
       "    </tr>\n",
       "  </thead>\n",
       "  <tbody>\n",
       "    <tr>\n",
       "      <th>Drama</th>\n",
       "      <td>19</td>\n",
       "    </tr>\n",
       "    <tr>\n",
       "      <th>Crime,Drama</th>\n",
       "      <td>14</td>\n",
       "    </tr>\n",
       "    <tr>\n",
       "      <th>Animation,Adventure,Comedy</th>\n",
       "      <td>10</td>\n",
       "    </tr>\n",
       "    <tr>\n",
       "      <th>Crime,Drama,Mystery</th>\n",
       "      <td>9</td>\n",
       "    </tr>\n",
       "    <tr>\n",
       "      <th>Biography,Drama,History</th>\n",
       "      <td>9</td>\n",
       "    </tr>\n",
       "    <tr>\n",
       "      <th>...</th>\n",
       "      <td>...</td>\n",
       "    </tr>\n",
       "    <tr>\n",
       "      <th>Action,Drama,Sport</th>\n",
       "      <td>1</td>\n",
       "    </tr>\n",
       "    <tr>\n",
       "      <th>Drama,Horror</th>\n",
       "      <td>1</td>\n",
       "    </tr>\n",
       "    <tr>\n",
       "      <th>Drama,Mystery,Sci-Fi</th>\n",
       "      <td>1</td>\n",
       "    </tr>\n",
       "    <tr>\n",
       "      <th>Adventure,Comedy,Crime</th>\n",
       "      <td>1</td>\n",
       "    </tr>\n",
       "    <tr>\n",
       "      <th>Action,Comedy,Crime</th>\n",
       "      <td>1</td>\n",
       "    </tr>\n",
       "  </tbody>\n",
       "</table>\n",
       "<p>104 rows × 1 columns</p>\n",
       "</div>"
      ],
      "text/plain": [
       "                            genre\n",
       "Drama                          19\n",
       "Crime,Drama                    14\n",
       "Animation,Adventure,Comedy     10\n",
       "Crime,Drama,Mystery             9\n",
       "Biography,Drama,History         9\n",
       "...                           ...\n",
       "Action,Drama,Sport              1\n",
       "Drama,Horror                    1\n",
       "Drama,Mystery,Sci-Fi            1\n",
       "Adventure,Comedy,Crime          1\n",
       "Action,Comedy,Crime             1\n",
       "\n",
       "[104 rows x 1 columns]"
      ]
     },
     "execution_count": 45,
     "metadata": {},
     "output_type": "execute_result"
    }
   ],
   "source": [
    "#I'll just do top 5 of each side \n",
    "\n",
    "temp = genre.value_counts()\n",
    "temp = pd.DataFrame(temp)\n",
    "temp"
   ]
  },
  {
   "cell_type": "code",
   "execution_count": 46,
   "id": "frozen-friend",
   "metadata": {},
   "outputs": [],
   "source": [
    "top = temp.head()\n",
    "bottom = temp.tail()"
   ]
  },
  {
   "cell_type": "code",
   "execution_count": 47,
   "id": "varying-eagle",
   "metadata": {},
   "outputs": [
    {
     "data": {
      "text/html": [
       "<div>\n",
       "<style scoped>\n",
       "    .dataframe tbody tr th:only-of-type {\n",
       "        vertical-align: middle;\n",
       "    }\n",
       "\n",
       "    .dataframe tbody tr th {\n",
       "        vertical-align: top;\n",
       "    }\n",
       "\n",
       "    .dataframe thead th {\n",
       "        text-align: right;\n",
       "    }\n",
       "</style>\n",
       "<table border=\"1\" class=\"dataframe\">\n",
       "  <thead>\n",
       "    <tr style=\"text-align: right;\">\n",
       "      <th></th>\n",
       "      <th>genre</th>\n",
       "    </tr>\n",
       "  </thead>\n",
       "  <tbody>\n",
       "    <tr>\n",
       "      <th>Drama</th>\n",
       "      <td>19</td>\n",
       "    </tr>\n",
       "    <tr>\n",
       "      <th>Crime,Drama</th>\n",
       "      <td>14</td>\n",
       "    </tr>\n",
       "    <tr>\n",
       "      <th>Animation,Adventure,Comedy</th>\n",
       "      <td>10</td>\n",
       "    </tr>\n",
       "    <tr>\n",
       "      <th>Crime,Drama,Mystery</th>\n",
       "      <td>9</td>\n",
       "    </tr>\n",
       "    <tr>\n",
       "      <th>Biography,Drama,History</th>\n",
       "      <td>9</td>\n",
       "    </tr>\n",
       "  </tbody>\n",
       "</table>\n",
       "</div>"
      ],
      "text/plain": [
       "                            genre\n",
       "Drama                          19\n",
       "Crime,Drama                    14\n",
       "Animation,Adventure,Comedy     10\n",
       "Crime,Drama,Mystery             9\n",
       "Biography,Drama,History         9"
      ]
     },
     "execution_count": 47,
     "metadata": {},
     "output_type": "execute_result"
    }
   ],
   "source": [
    "top"
   ]
  },
  {
   "cell_type": "code",
   "execution_count": 48,
   "id": "faced-glasgow",
   "metadata": {},
   "outputs": [
    {
     "data": {
      "text/html": [
       "<div>\n",
       "<style scoped>\n",
       "    .dataframe tbody tr th:only-of-type {\n",
       "        vertical-align: middle;\n",
       "    }\n",
       "\n",
       "    .dataframe tbody tr th {\n",
       "        vertical-align: top;\n",
       "    }\n",
       "\n",
       "    .dataframe thead th {\n",
       "        text-align: right;\n",
       "    }\n",
       "</style>\n",
       "<table border=\"1\" class=\"dataframe\">\n",
       "  <thead>\n",
       "    <tr style=\"text-align: right;\">\n",
       "      <th></th>\n",
       "      <th>genre</th>\n",
       "    </tr>\n",
       "  </thead>\n",
       "  <tbody>\n",
       "    <tr>\n",
       "      <th>Action,Drama,Sport</th>\n",
       "      <td>1</td>\n",
       "    </tr>\n",
       "    <tr>\n",
       "      <th>Drama,Horror</th>\n",
       "      <td>1</td>\n",
       "    </tr>\n",
       "    <tr>\n",
       "      <th>Drama,Mystery,Sci-Fi</th>\n",
       "      <td>1</td>\n",
       "    </tr>\n",
       "    <tr>\n",
       "      <th>Adventure,Comedy,Crime</th>\n",
       "      <td>1</td>\n",
       "    </tr>\n",
       "    <tr>\n",
       "      <th>Action,Comedy,Crime</th>\n",
       "      <td>1</td>\n",
       "    </tr>\n",
       "  </tbody>\n",
       "</table>\n",
       "</div>"
      ],
      "text/plain": [
       "                        genre\n",
       "Action,Drama,Sport          1\n",
       "Drama,Horror                1\n",
       "Drama,Mystery,Sci-Fi        1\n",
       "Adventure,Comedy,Crime      1\n",
       "Action,Comedy,Crime         1"
      ]
     },
     "execution_count": 48,
     "metadata": {},
     "output_type": "execute_result"
    }
   ],
   "source": [
    "bottom"
   ]
  },
  {
   "cell_type": "code",
   "execution_count": 49,
   "id": "mineral-magic",
   "metadata": {},
   "outputs": [
    {
     "data": {
      "text/plain": [
       "{'genre': {'Drama': 19,\n",
       "  'Crime,Drama': 14,\n",
       "  'Animation,Adventure,Comedy': 10,\n",
       "  'Crime,Drama,Mystery': 9,\n",
       "  'Biography,Drama,History': 9}}"
      ]
     },
     "execution_count": 49,
     "metadata": {},
     "output_type": "execute_result"
    }
   ],
   "source": [
    "top_dict = pd.DataFrame.to_dict(top)\n",
    "low_dict = pd.DataFrame.to_dict(bottom)\n",
    "\n",
    "top_dict"
   ]
  },
  {
   "cell_type": "code",
   "execution_count": 50,
   "id": "closing-pension",
   "metadata": {},
   "outputs": [
    {
     "data": {
      "text/plain": [
       "{'Drama': 19,\n",
       " 'Crime,Drama': 14,\n",
       " 'Animation,Adventure,Comedy': 10,\n",
       " 'Crime,Drama,Mystery': 9,\n",
       " 'Biography,Drama,History': 9}"
      ]
     },
     "execution_count": 50,
     "metadata": {},
     "output_type": "execute_result"
    }
   ],
   "source": [
    "top_dict = top_dict['genre']\n",
    "top_dict"
   ]
  },
  {
   "cell_type": "code",
   "execution_count": 51,
   "id": "solid-saudi",
   "metadata": {},
   "outputs": [],
   "source": [
    "low_dict = low_dict['genre']"
   ]
  },
  {
   "cell_type": "code",
   "execution_count": 55,
   "id": "sacred-updating",
   "metadata": {},
   "outputs": [
    {
     "data": {
      "text/plain": [
       "{'Drama': 19,\n",
       " 'Crime,Drama': 14,\n",
       " 'Animation,Adventure,Comedy': 10,\n",
       " 'Crime,Drama,Mystery': 9,\n",
       " 'Biography,Drama,History': 9,\n",
       " 'Action,Drama,Sport': 1,\n",
       " 'Drama,Horror': 1,\n",
       " 'Drama,Mystery,Sci-Fi': 1,\n",
       " 'Adventure,Comedy,Crime': 1,\n",
       " 'Action,Comedy,Crime': 1}"
      ]
     },
     "execution_count": 55,
     "metadata": {},
     "output_type": "execute_result"
    }
   ],
   "source": [
    "#put them all together \n",
    "\n",
    "top_dict.update(low_dict)\n",
    "top_dict"
   ]
  },
  {
   "cell_type": "code",
   "execution_count": 58,
   "id": "nearby-brunswick",
   "metadata": {},
   "outputs": [],
   "source": [
    "sizes_ = list(top_dict.values())\n",
    "labels_ = list(top_dict.keys())"
   ]
  },
  {
   "cell_type": "code",
   "execution_count": 59,
   "id": "popular-destruction",
   "metadata": {},
   "outputs": [
    {
     "data": {
      "text/plain": [
       "([<matplotlib.patches.Wedge at 0x7fd1a3159070>,\n",
       "  <matplotlib.patches.Wedge at 0x7fd1a3171970>,\n",
       "  <matplotlib.patches.Wedge at 0x7fd1a2fa1d00>,\n",
       "  <matplotlib.patches.Wedge at 0x7fd1a2fa1250>,\n",
       "  <matplotlib.patches.Wedge at 0x7fd1a2ffebb0>,\n",
       "  <matplotlib.patches.Wedge at 0x7fd1a2ffe880>,\n",
       "  <matplotlib.patches.Wedge at 0x7fd1a2fefd00>,\n",
       "  <matplotlib.patches.Wedge at 0x7fd1a2fefa30>,\n",
       "  <matplotlib.patches.Wedge at 0x7fd1a2fef1c0>,\n",
       "  <matplotlib.patches.Wedge at 0x7fd1a2fe8700>],\n",
       " [Text(0.6799749020149729, 0.8646583907126144, 'Drama'),\n",
       "  Text(-0.8646583907126144, 0.6799749020149729, 'Crime,Drama'),\n",
       "  Text(-0.9777189863700385, -0.5040491877699483, 'Animation,Adventure,Comedy'),\n",
       "  Text(-0.20817632436129796, -1.0801215755531504, 'Crime,Drama,Mystery'),\n",
       "  Text(0.6799749424925521, -0.8646583588806915, 'Biography,Drama,History'),\n",
       "  Text(1.0005952318392295, -0.45695643339447445, 'Action,Drama,Sport'),\n",
       "  Text(1.0395009306980727, -0.359774672646423, 'Drama,Horror'),\n",
       "  Text(1.0689927475971255, -0.2593347365563446, 'Drama,Mystery,Sci-Fi'),\n",
       "  Text(1.0888036000597223, -0.1565462247931533, 'Adventure,Comedy,Crime'),\n",
       "  Text(1.0987540779274896, -0.05234000609201452, 'Action,Comedy,Crime')])"
      ]
     },
     "execution_count": 59,
     "metadata": {},
     "output_type": "execute_result"
    },
    {
     "data": {
      "image/png": "[encoded data removed]",
      "text/plain": [
       "<Figure size 432x288 with 1 Axes>"
      ]
     },
     "metadata": {},
     "output_type": "display_data"
    }
   ],
   "source": [
    "plt.pie(sizes_, labels=labels_)"
   ]
  },
  {
   "cell_type": "markdown",
   "id": "double-constitutional",
   "metadata": {},
   "source": [
    "### 5. Correlation \n",
    "\n",
    "- Correlation Coefficient \n",
    "- Correlation Matrix\n",
    "- Scatterplot "
   ]
  },
  {
   "cell_type": "code",
   "execution_count": 60,
   "id": "stupid-stocks",
   "metadata": {},
   "outputs": [
    {
     "data": {
      "text/html": [
       "<div>\n",
       "<style scoped>\n",
       "    .dataframe tbody tr th:only-of-type {\n",
       "        vertical-align: middle;\n",
       "    }\n",
       "\n",
       "    .dataframe tbody tr th {\n",
       "        vertical-align: top;\n",
       "    }\n",
       "\n",
       "    .dataframe thead th {\n",
       "        text-align: right;\n",
       "    }\n",
       "</style>\n",
       "<table border=\"1\" class=\"dataframe\">\n",
       "  <thead>\n",
       "    <tr style=\"text-align: right;\">\n",
       "      <th></th>\n",
       "      <th>rank</th>\n",
       "      <th>year</th>\n",
       "      <th>imbd_rating</th>\n",
       "      <th>oldOrNew</th>\n",
       "    </tr>\n",
       "  </thead>\n",
       "  <tbody>\n",
       "    <tr>\n",
       "      <th>rank</th>\n",
       "      <td>1.000000</td>\n",
       "      <td>-0.055716</td>\n",
       "      <td>-0.854198</td>\n",
       "      <td>0.053334</td>\n",
       "    </tr>\n",
       "    <tr>\n",
       "      <th>year</th>\n",
       "      <td>-0.055716</td>\n",
       "      <td>1.000000</td>\n",
       "      <td>0.031470</td>\n",
       "      <td>0.737468</td>\n",
       "    </tr>\n",
       "    <tr>\n",
       "      <th>imbd_rating</th>\n",
       "      <td>-0.854198</td>\n",
       "      <td>0.031470</td>\n",
       "      <td>1.000000</td>\n",
       "      <td>-0.070273</td>\n",
       "    </tr>\n",
       "    <tr>\n",
       "      <th>oldOrNew</th>\n",
       "      <td>0.053334</td>\n",
       "      <td>0.737468</td>\n",
       "      <td>-0.070273</td>\n",
       "      <td>1.000000</td>\n",
       "    </tr>\n",
       "  </tbody>\n",
       "</table>\n",
       "</div>"
      ],
      "text/plain": [
       "                 rank      year  imbd_rating  oldOrNew\n",
       "rank         1.000000 -0.055716    -0.854198  0.053334\n",
       "year        -0.055716  1.000000     0.031470  0.737468\n",
       "imbd_rating -0.854198  0.031470     1.000000 -0.070273\n",
       "oldOrNew     0.053334  0.737468    -0.070273  1.000000"
      ]
     },
     "execution_count": 60,
     "metadata": {},
     "output_type": "execute_result"
    }
   ],
   "source": [
    "df.corr()"
   ]
  },
  {
   "cell_type": "code",
   "execution_count": 61,
   "id": "ethical-refrigerator",
   "metadata": {},
   "outputs": [
    {
     "data": {
      "text/plain": [
       "<AxesSubplot:>"
      ]
     },
     "execution_count": 61,
     "metadata": {},
     "output_type": "execute_result"
    },
    {
     "data": {
      "image/png": "[encoded data removed]",
      "text/plain": [
       "<Figure size 432x288 with 2 Axes>"
      ]
     },
     "metadata": {
      "needs_background": "light"
     },
     "output_type": "display_data"
    }
   ],
   "source": [
    "import seaborn as sns \n",
    "\n",
    "sns.heatmap(df.corr())"
   ]
  },
  {
   "cell_type": "code",
   "execution_count": 63,
   "id": "exotic-technician",
   "metadata": {},
   "outputs": [
    {
     "data": {
      "text/html": [
       "<style>#sk-container-id-1 {color: black;background-color: white;}#sk-container-id-1 pre{padding: 0;}#sk-container-id-1 div.sk-toggleable {background-color: white;}#sk-container-id-1 label.sk-toggleable__label {cursor: pointer;display: block;width: 100%;margin-bottom: 0;padding: 0.3em;box-sizing: border-box;text-align: center;}#sk-container-id-1 label.sk-toggleable__label-arrow:before {content: \"▸\";float: left;margin-right: 0.25em;color: #696969;}#sk-container-id-1 label.sk-toggleable__label-arrow:hover:before {color: black;}#sk-container-id-1 div.sk-estimator:hover label.sk-toggleable__label-arrow:before {color: black;}#sk-container-id-1 div.sk-toggleable__content {max-height: 0;max-width: 0;overflow: hidden;text-align: left;background-color: #f0f8ff;}#sk-container-id-1 div.sk-toggleable__content pre {margin: 0.2em;color: black;border-radius: 0.25em;background-color: #f0f8ff;}#sk-container-id-1 input.sk-toggleable__control:checked~div.sk-toggleable__content {max-height: 200px;max-width: 100%;overflow: auto;}#sk-container-id-1 input.sk-toggleable__control:checked~label.sk-toggleable__label-arrow:before {content: \"▾\";}#sk-container-id-1 div.sk-estimator input.sk-toggleable__control:checked~label.sk-toggleable__label {background-color: #d4ebff;}#sk-container-id-1 div.sk-label input.sk-toggleable__control:checked~label.sk-toggleable__label {background-color: #d4ebff;}#sk-container-id-1 input.sk-hidden--visually {border: 0;clip: rect(1px 1px 1px 1px);clip: rect(1px, 1px, 1px, 1px);height: 1px;margin: -1px;overflow: hidden;padding: 0;position: absolute;width: 1px;}#sk-container-id-1 div.sk-estimator {font-family: monospace;background-color: #f0f8ff;border: 1px dotted black;border-radius: 0.25em;box-sizing: border-box;margin-bottom: 0.5em;}#sk-container-id-1 div.sk-estimator:hover {background-color: #d4ebff;}#sk-container-id-1 div.sk-parallel-item::after {content: \"\";width: 100%;border-bottom: 1px solid gray;flex-grow: 1;}#sk-container-id-1 div.sk-label:hover label.sk-toggleable__label {background-color: #d4ebff;}#sk-container-id-1 div.sk-serial::before {content: \"\";position: absolute;border-left: 1px solid gray;box-sizing: border-box;top: 0;bottom: 0;left: 50%;z-index: 0;}#sk-container-id-1 div.sk-serial {display: flex;flex-direction: column;align-items: center;background-color: white;padding-right: 0.2em;padding-left: 0.2em;position: relative;}#sk-container-id-1 div.sk-item {position: relative;z-index: 1;}#sk-container-id-1 div.sk-parallel {display: flex;align-items: stretch;justify-content: center;background-color: white;position: relative;}#sk-container-id-1 div.sk-item::before, #sk-container-id-1 div.sk-parallel-item::before {content: \"\";position: absolute;border-left: 1px solid gray;box-sizing: border-box;top: 0;bottom: 0;left: 50%;z-index: -1;}#sk-container-id-1 div.sk-parallel-item {display: flex;flex-direction: column;z-index: 1;position: relative;background-color: white;}#sk-container-id-1 div.sk-parallel-item:first-child::after {align-self: flex-end;width: 50%;}#sk-container-id-1 div.sk-parallel-item:last-child::after {align-self: flex-start;width: 50%;}#sk-container-id-1 div.sk-parallel-item:only-child::after {width: 0;}#sk-container-id-1 div.sk-dashed-wrapped {border: 1px dashed gray;margin: 0 0.4em 0.5em 0.4em;box-sizing: border-box;padding-bottom: 0.4em;background-color: white;}#sk-container-id-1 div.sk-label label {font-family: monospace;font-weight: bold;display: inline-block;line-height: 1.2em;}#sk-container-id-1 div.sk-label-container {text-align: center;}#sk-container-id-1 div.sk-container {/* jupyter's `normalize.less` sets `[hidden] { display: none; }` but bootstrap.min.css set `[hidden] { display: none !important; }` so we also need the `!important` here to be able to override the default hidden behavior on the sphinx rendered scikit-learn.org. See: https://github.com/scikit-learn/scikit-learn/issues/21755 */display: inline-block !important;position: relative;}#sk-container-id-1 div.sk-text-repr-fallback {display: none;}</style><div id=\"sk-container-id-1\" class=\"sk-top-container\"><div class=\"sk-text-repr-fallback\"><pre>EmpiricalCovariance()</pre><b>In a Jupyter environment, please rerun this cell to show the HTML representation or trust the notebook. <br />On GitHub, the HTML representation is unable to render, please try loading this page with nbviewer.org.</b></div><div class=\"sk-container\" hidden><div class=\"sk-item\"><div class=\"sk-estimator sk-toggleable\"><input class=\"sk-toggleable__control sk-hidden--visually\" id=\"sk-estimator-id-1\" type=\"checkbox\" checked><label for=\"sk-estimator-id-1\" class=\"sk-toggleable__label sk-toggleable__label-arrow\">EmpiricalCovariance</label><div class=\"sk-toggleable__content\"><pre>EmpiricalCovariance()</pre></div></div></div></div></div>"
      ],
      "text/plain": [
       "EmpiricalCovariance()"
      ]
     },
     "execution_count": 63,
     "metadata": {},
     "output_type": "execute_result"
    }
   ],
   "source": [
    "from sklearn.covariance import EmpiricalCovariance\n",
    "\n",
    "y = np.array(df['year']).reshape(-1,1)\n",
    "r = np.array(df['imbd_rating']).reshape(-1,1)\n",
    "\n",
    "cov = EmpiricalCovariance().fit(r, y)\n"
   ]
  },
  {
   "cell_type": "code",
   "execution_count": 64,
   "id": "built-lounge",
   "metadata": {},
   "outputs": [
    {
     "data": {
      "text/plain": [
       "array([[0.05223376]])"
      ]
     },
     "execution_count": 64,
     "metadata": {},
     "output_type": "execute_result"
    }
   ],
   "source": [
    "cov.covariance_"
   ]
  },
  {
   "cell_type": "code",
   "execution_count": 65,
   "id": "valuable-bobby",
   "metadata": {},
   "outputs": [
    {
     "data": {
      "text/plain": [
       "array([8.3068])"
      ]
     },
     "execution_count": 65,
     "metadata": {},
     "output_type": "execute_result"
    }
   ],
   "source": [
    "cov.location_"
   ]
  },
  {
   "cell_type": "code",
   "execution_count": 66,
   "id": "insured-eight",
   "metadata": {},
   "outputs": [
    {
     "data": {
      "text/plain": [
       "<matplotlib.collections.PathCollection at 0x7fd1a43a99d0>"
      ]
     },
     "execution_count": 66,
     "metadata": {},
     "output_type": "execute_result"
    },
    {
     "data": {
      "image/png": "[encoded data removed]",
      "text/plain": [
       "<Figure size 432x288 with 1 Axes>"
      ]
     },
     "metadata": {
      "needs_background": "light"
     },
     "output_type": "display_data"
    }
   ],
   "source": [
    "#scatter plot \n",
    "\n",
    "plt.scatter(r, y)"
   ]
  },
  {
   "cell_type": "code",
   "execution_count": null,
   "id": "automatic-benchmark",
   "metadata": {},
   "outputs": [],
   "source": []
  }
 ],
 "metadata": {
  "kernelspec": {
   "display_name": "Python 3",
   "language": "python",
   "name": "python3"
  },
  "language_info": {
   "codemirror_mode": {
    "name": "ipython",
    "version": 3
   },
   "file_extension": ".py",
   "mimetype": "text/x-python",
   "name": "python",
   "nbconvert_exporter": "python",
   "pygments_lexer": "ipython3",
   "version": "3.9.12"
  }
 },
 "nbformat": 4,
 "nbformat_minor": 5
}
